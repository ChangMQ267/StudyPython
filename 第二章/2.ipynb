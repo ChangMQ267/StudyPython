{
 "cells": [
  {
   "cell_type": "markdown",
   "metadata": {},
   "source": [
    "创建数据类型，并使用"
   ]
  },
  {
   "cell_type": "code",
   "execution_count": 1,
   "metadata": {},
   "outputs": [],
   "source": [
    "import numpy as np"
   ]
  },
  {
   "cell_type": "code",
   "execution_count": 2,
   "metadata": {
    "scrolled": true
   },
   "outputs": [
    {
     "name": "stdout",
     "output_type": "stream",
     "text": [
      "数据类型为： [('name', '<U40'), ('numitems', '<i8'), ('price', '<f8')]\n"
     ]
    }
   ],
   "source": [
    "df = np.dtype([(\"name\", np.str_, 40),(\"numitems\",np.int64),(\"price\",np.float64)])\n",
    "print('数据类型为：',df)"
   ]
  },
  {
   "cell_type": "code",
   "execution_count": 3,
   "metadata": {},
   "outputs": [
    {
     "name": "stdout",
     "output_type": "stream",
     "text": [
      "数据类型为： <U40\n"
     ]
    }
   ],
   "source": [
    "print('数据类型为：',df[\"name\"])"
   ]
  },
  {
   "cell_type": "code",
   "execution_count": 4,
   "metadata": {},
   "outputs": [
    {
     "name": "stdout",
     "output_type": "stream",
     "text": [
      "数据结构为： <U40\n"
     ]
    }
   ],
   "source": [
    "print('数据结构为：',np.dtype(df[\"name\"]))"
   ]
  },
  {
   "cell_type": "code",
   "execution_count": 7,
   "metadata": {},
   "outputs": [
    {
     "name": "stdout",
     "output_type": "stream",
     "text": [
      "自定义数据为： [('tomatoes', 42, 2.14) ('cabbages', 13, 1.72)]\n"
     ]
    }
   ],
   "source": [
    "itemz = np.array([(\"tomatoes\", 42, 2.14),(\"cabbages\", 13, 1.72)],dtype=df)\n",
    "print('自定义数据为：',itemz)"
   ]
  },
  {
   "cell_type": "code",
   "execution_count": 8,
   "metadata": {},
   "outputs": [
    {
     "name": "stdout",
     "output_type": "stream",
     "text": [
      "自定义数据1为： ('cabbages', 13, 1.72)\n"
     ]
    }
   ],
   "source": [
    "print('自定义数据1为：',itemz[1])"
   ]
  },
  {
   "cell_type": "markdown",
   "metadata": {},
   "source": [
    "生成随机数"
   ]
  },
  {
   "cell_type": "code",
   "execution_count": 12,
   "metadata": {},
   "outputs": [
    {
     "name": "stdout",
     "output_type": "stream",
     "text": [
      "生成随机数组为： [0.70217127]\n"
     ]
    }
   ],
   "source": [
    "print('生成随机数组为：',np.random.random(1))"
   ]
  },
  {
   "cell_type": "code",
   "execution_count": 13,
   "metadata": {},
   "outputs": [
    {
     "name": "stdout",
     "output_type": "stream",
     "text": [
      "生成服从均匀分布的随机数组为： [[0.75835473 0.56666912 0.57183826 0.25234484 0.92843073]\n",
      " [0.55918375 0.08127229 0.62885428 0.38764908 0.72701045]\n",
      " [0.28772091 0.62792192 0.12033051 0.87234359 0.75431202]\n",
      " [0.08571744 0.71498297 0.19278293 0.17245819 0.07601917]\n",
      " [0.56787433 0.65496719 0.87360114 0.74852371 0.80206729]\n",
      " [0.06220963 0.35642156 0.91645473 0.3702708  0.72114512]\n",
      " [0.92104089 0.9000232  0.03687048 0.62639021 0.95604624]\n",
      " [0.6046616  0.98267135 0.39306799 0.77369242 0.50542907]\n",
      " [0.05360503 0.04821922 0.39123691 0.19516759 0.52136445]\n",
      " [0.62245203 0.9580766  0.37628335 0.4515529  0.89242486]]\n"
     ]
    }
   ],
   "source": [
    "print('生成服从均匀分布的随机数组为：',np.random.rand(10,5))"
   ]
  },
  {
   "cell_type": "code",
   "execution_count": 14,
   "metadata": {},
   "outputs": [
    {
     "name": "stdout",
     "output_type": "stream",
     "text": [
      "生成服从正态分布的随机数组为: [[-0.49494513 -1.98940287 -1.17884811  0.23450396  1.57934752]\n",
      " [-0.82968242 -0.18428675 -0.84368376 -1.63716101  0.19797536]\n",
      " [ 0.90332141 -0.1761656   0.5843183  -0.46562068  0.22780797]\n",
      " [-0.8527738   2.42673334 -0.27536107 -2.87308915  1.38634036]\n",
      " [-0.68373799  0.39445836  0.65568208  0.20953652 -0.36857137]\n",
      " [ 1.71765408  0.58156821 -1.18205435 -1.5153073  -0.66849504]\n",
      " [-0.15747829 -0.16943107 -1.84380517  0.29357082  0.34254867]\n",
      " [-0.70436103 -1.32042822 -0.02156558 -0.5615735  -0.72027371]\n",
      " [ 0.67336677 -0.57368136 -1.38473638  1.63174114 -0.60223759]\n",
      " [ 0.75472143  1.53867315 -0.45849479 -0.68445591  0.7491777 ]]\n"
     ]
    }
   ],
   "source": [
    "print('生成服从正态分布的随机数组为:',np.random.randn(10,5))"
   ]
  },
  {
   "cell_type": "code",
   "execution_count": 31,
   "metadata": {},
   "outputs": [
    {
     "name": "stdout",
     "output_type": "stream",
     "text": [
      "生成随机数组为： [[9 3 3 7 9]\n",
      " [8 2 8 3 9]]\n"
     ]
    }
   ],
   "source": [
    "print('生成随机数组为：', np.random.randint(2,10,size=(2,5))) #给定上下限范围的随机数"
   ]
  },
  {
   "cell_type": "code",
   "execution_count": null,
   "metadata": {},
   "outputs": [],
   "source": []
  }
 ],
 "metadata": {
  "kernelspec": {
   "display_name": "Python 3",
   "language": "python",
   "name": "python3"
  },
  "language_info": {
   "codemirror_mode": {
    "name": "ipython",
    "version": 3
   },
   "file_extension": ".py",
   "mimetype": "text/x-python",
   "name": "python",
   "nbconvert_exporter": "python",
   "pygments_lexer": "ipython3",
   "version": "3.6.10"
  }
 },
 "nbformat": 4,
 "nbformat_minor": 4
}
